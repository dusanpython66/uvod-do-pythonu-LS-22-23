{
 "cells": [
  {
   "cell_type": "code",
   "execution_count": 1,
   "metadata": {},
   "outputs": [
    {
     "name": "stdout",
     "output_type": "stream",
     "text": [
      "Barel\n"
     ]
    }
   ],
   "source": [
    "# Uvažujme řetězec \"Karel\" \n",
    "# a napišme kód, který pozmění řetězec tak, že první písmeno\n",
    "# bude \"B\" a zbytek řetězce zůstane nezměněný.\n",
    "# Výsledkem by měl být řetězec \"Barel\".\n",
    "# Výsledek vytiskněte na obrazovku.\n",
    "\n",
    "print(\"B\" + \"Karel\"[1:] )"
   ]
  },
  {
   "cell_type": "code",
   "execution_count": null,
   "metadata": {},
   "outputs": [],
   "source": []
  }
 ],
 "metadata": {
  "kernelspec": {
   "display_name": "Python 3",
   "language": "python",
   "name": "python3"
  },
  "language_info": {
   "codemirror_mode": {
    "name": "ipython",
    "version": 3
   },
   "file_extension": ".py",
   "mimetype": "text/x-python",
   "name": "python",
   "nbconvert_exporter": "python",
   "pygments_lexer": "ipython3",
   "version": "3.11.0"
  },
  "orig_nbformat": 4
 },
 "nbformat": 4,
 "nbformat_minor": 2
}
