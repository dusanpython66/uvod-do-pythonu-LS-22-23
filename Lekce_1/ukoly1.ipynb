{
 "cells": [
  {
   "attachments": {},
   "cell_type": "markdown",
   "metadata": {},
   "source": [
    "1. **Práce s čísly a proměnnými**\n",
    "   \n",
    "   - Vytvořte dvě proměnné a přiřaďte jim nějaké celé číslo. Vypište jejich součet, rozdíl, součin a podíl.\n",
    "   - Zjistěte a vypište, jaký datový typ mají proměnné.\n",
    "   - Spočítejte a vypište druhou mocninu jednoho z těchto čísel a také jeho druhou odmocninu (použijte `**` a `math.sqrt()`)."
   ]
  },
  {
   "cell_type": "code",
   "execution_count": 2,
   "metadata": {},
   "outputs": [
    {
     "name": "stdout",
     "output_type": "stream",
     "text": [
      "x + y =  3\n",
      "x - y =  -1\n",
      "x * y =  2\n",
      "x / y =  0.5\n"
     ]
    }
   ],
   "source": [
    "x, y = 1, 2\n",
    "print(\"x + y = \", x + y)\n",
    "print(\"x - y = \", x - y)\n",
    "print(\"x * y = \", x * y)\n",
    "print(\"x / y = \", x / y)"
   ]
  },
  {
   "cell_type": "code",
   "execution_count": 3,
   "metadata": {},
   "outputs": [
    {
     "name": "stdout",
     "output_type": "stream",
     "text": [
      "type(x + y) =  <class 'int'>\n",
      "type(x - y) =  <class 'int'>\n",
      "type(x * y) =  <class 'int'>\n",
      "type(x / y) =  <class 'float'>\n",
      "type x =  <class 'int'>\n",
      "type y =  <class 'int'>\n"
     ]
    }
   ],
   "source": [
    "# zjistíme, jakého typu je každý výsledek:\n",
    "print(\"type(x + y) = \", type(x + y))\n",
    "print(\"type(x - y) = \", type(x - y))\n",
    "print(\"type(x * y) = \", type(x * y))\n",
    "print(\"type(x / y) = \", type(x / y))\n",
    "print(\"type x = \", type(x))\n",
    "print(\"type y = \", type(y))"
   ]
  },
  {
   "cell_type": "code",
   "execution_count": 5,
   "metadata": {},
   "outputs": [
    {
     "name": "stdout",
     "output_type": "stream",
     "text": [
      "x ** 2 =  1\n"
     ]
    }
   ],
   "source": [
    "# spočítejme druhou mocninu čísla x:\n",
    "print(\"x ** 2 = \", x ** 2)  # ** je operátor umocňování"
   ]
  },
  {
   "cell_type": "code",
   "execution_count": 6,
   "metadata": {},
   "outputs": [
    {
     "name": "stdout",
     "output_type": "stream",
     "text": [
      "x ** 0.5 =  1.0\n"
     ]
    }
   ],
   "source": [
    "# vypočítejme druhou odmocninu čísla x:\n",
    "print(\"x ** 0.5 = \", x ** 0.5)  "
   ]
  },
  {
   "cell_type": "code",
   "execution_count": 7,
   "metadata": {},
   "outputs": [
    {
     "name": "stdout",
     "output_type": "stream",
     "text": [
      "sqrt(y) =  1.4142135623730951\n"
     ]
    }
   ],
   "source": [
    "# vypočítejme drohou odmocninu čísla y \n",
    "# pomocí funkce sqrt z modulu math:\n",
    "from math import sqrt\n",
    "print(\"sqrt(y) = \", sqrt(y))"
   ]
  },
  {
   "cell_type": "code",
   "execution_count": null,
   "metadata": {},
   "outputs": [],
   "source": []
  }
 ],
 "metadata": {
  "kernelspec": {
   "display_name": "Python 3",
   "language": "python",
   "name": "python3"
  },
  "language_info": {
   "codemirror_mode": {
    "name": "ipython",
    "version": 3
   },
   "file_extension": ".py",
   "mimetype": "text/x-python",
   "name": "python",
   "nbconvert_exporter": "python",
   "pygments_lexer": "ipython3",
   "version": "3.11.0"
  },
  "orig_nbformat": 4
 },
 "nbformat": 4,
 "nbformat_minor": 2
}
