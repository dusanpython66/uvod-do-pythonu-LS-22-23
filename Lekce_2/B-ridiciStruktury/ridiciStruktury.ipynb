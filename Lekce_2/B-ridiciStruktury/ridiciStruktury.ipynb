{
 "cells": [
  {
   "cell_type": "code",
   "execution_count": 1,
   "metadata": {},
   "outputs": [],
   "source": [
    "# if-příkaz\n",
    "# syntaxe tohoto příkazu je následující:\n",
    "# if podmínka:\n",
    "#     příkaz1\n",
    "#     příkaz2\n",
    "#     ...\n",
    "#     příkazN\n",
    "\n",
    "# příklad:\n",
    "vek = int(input(\"Zadejte svůj věk: \"))\n"
   ]
  },
  {
   "cell_type": "code",
   "execution_count": null,
   "metadata": {},
   "outputs": [],
   "source": []
  }
 ],
 "metadata": {
  "kernelspec": {
   "display_name": "Python 3",
   "language": "python",
   "name": "python3"
  },
  "language_info": {
   "codemirror_mode": {
    "name": "ipython",
    "version": 3
   },
   "file_extension": ".py",
   "mimetype": "text/x-python",
   "name": "python",
   "nbconvert_exporter": "python",
   "pygments_lexer": "ipython3",
   "version": "3.11.0"
  },
  "orig_nbformat": 4
 },
 "nbformat": 4,
 "nbformat_minor": 2
}
