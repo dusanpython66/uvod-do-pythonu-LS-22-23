{
 "cells": [
  {
   "attachments": {},
   "cell_type": "markdown",
   "metadata": {},
   "source": [
    "1. **Práce s čísly a proměnnými**\n",
    "   \n",
    "   - Vytvořte dvě proměnné a přiřaďte jim nějaké celé číslo. Vypište jejich součet, rozdíl, součin a podíl.\n",
    "   - Zjistěte a vypište, jaký datový typ mají proměnné.\n",
    "   - Spočítejte a vypište druhou mocninu jednoho z těchto čísel a také jeho druhou odmocninu (použijte `**` a `math.sqrt()`)."
   ]
  },
  {
   "cell_type": "code",
   "execution_count": 2,
   "metadata": {},
   "outputs": [
    {
     "name": "stdout",
     "output_type": "stream",
     "text": [
      "x + y =  3\n",
      "x - y =  -1\n",
      "x * y =  2\n",
      "x / y =  0.5\n"
     ]
    }
   ],
   "source": [
    "x, y = 1, 2\n",
    "print(\"x + y = \", x + y)\n",
    "print(\"x - y = \", x - y)\n",
    "print(\"x * y = \", x * y)\n",
    "print(\"x / y = \", x / y)"
   ]
  },
  {
   "cell_type": "code",
   "execution_count": 3,
   "metadata": {},
   "outputs": [
    {
     "name": "stdout",
     "output_type": "stream",
     "text": [
      "type(x + y) =  <class 'int'>\n",
      "type(x - y) =  <class 'int'>\n",
      "type(x * y) =  <class 'int'>\n",
      "type(x / y) =  <class 'float'>\n",
      "type x =  <class 'int'>\n",
      "type y =  <class 'int'>\n"
     ]
    }
   ],
   "source": [
    "# zjistíme, jakého typu je každý výsledek:\n",
    "print(\"type(x + y) = \", type(x + y))\n",
    "print(\"type(x - y) = \", type(x - y))\n",
    "print(\"type(x * y) = \", type(x * y))\n",
    "print(\"type(x / y) = \", type(x / y))\n",
    "print(\"type x = \", type(x))\n",
    "print(\"type y = \", type(y))"
   ]
  },
  {
   "cell_type": "code",
   "execution_count": 5,
   "metadata": {},
   "outputs": [
    {
     "name": "stdout",
     "output_type": "stream",
     "text": [
      "x ** 2 =  1\n"
     ]
    }
   ],
   "source": [
    "# spočítejme druhou mocninu čísla x:\n",
    "print(\"x ** 2 = \", x ** 2)  # ** je operátor umocňování"
   ]
  },
  {
   "cell_type": "code",
   "execution_count": 6,
   "metadata": {},
   "outputs": [
    {
     "name": "stdout",
     "output_type": "stream",
     "text": [
      "x ** 0.5 =  1.0\n"
     ]
    }
   ],
   "source": [
    "# vypočítejme druhou odmocninu čísla x:\n",
    "print(\"x ** 0.5 = \", x ** 0.5)  "
   ]
  },
  {
   "cell_type": "code",
   "execution_count": 7,
   "metadata": {},
   "outputs": [
    {
     "name": "stdout",
     "output_type": "stream",
     "text": [
      "sqrt(y) =  1.4142135623730951\n"
     ]
    }
   ],
   "source": [
    "# vypočítejme drohou odmocninu čísla y \n",
    "# pomocí funkce sqrt z modulu math:\n",
    "from math import sqrt\n",
    "print(\"sqrt(y) = \", sqrt(y))"
   ]
  },
  {
   "attachments": {},
   "cell_type": "markdown",
   "metadata": {},
   "source": [
    "2. **Práce s desetinnými čísly**\n",
    "\n",
    "   - Vytvořte dvě proměnné a přiřaďte jim nějaké desetinné číslo. Vypište jejich součet, rozdíl, součin a podíl.\n",
    "   - Využijte funkci `round()` pro zaokrouhlení těchto čísel na celá čísla."
   ]
  },
  {
   "cell_type": "code",
   "execution_count": 1,
   "metadata": {},
   "outputs": [
    {
     "name": "stdout",
     "output_type": "stream",
     "text": [
      "a + b =  4.0\n",
      "a - b =  -1.0\n",
      "a * b =  3.75\n",
      "a / b =  0.6\n"
     ]
    }
   ],
   "source": [
    "a = 1.5\n",
    "b = 2.5\n",
    "print(\"a + b = \", a + b)\n",
    "print(\"a - b = \", a - b)\n",
    "print(\"a * b = \", a * b)\n",
    "print(\"a / b = \", a / b)"
   ]
  },
  {
   "cell_type": "code",
   "execution_count": 2,
   "metadata": {},
   "outputs": [
    {
     "name": "stdout",
     "output_type": "stream",
     "text": [
      "round(a + b) =  4\n",
      "round(a - b) =  -1\n",
      "round(a * b) =  4\n",
      "round(a / b) =  1\n"
     ]
    }
   ],
   "source": [
    "# nyní zaookrouhlíme všechny výsledky na celá čísla:\n",
    "# s pomocí funkce round:\n",
    "print(\"round(a + b) = \", round(a + b))\n",
    "print(\"round(a - b) = \", round(a - b))\n",
    "print(\"round(a * b) = \", round(a * b))\n",
    "print(\"round(a / b) = \", round(a / b))"
   ]
  },
  {
   "attachments": {},
   "cell_type": "markdown",
   "metadata": {},
   "source": [
    "3. **Práce s boolovskými hodnotami**\n",
    "\n",
    "   - Vypište výsledek logických operací mezi dvěma čísly (použijte `>`, `<`, `==`, `!=`, `<=`, `>=`).\n",
    "   - Experimentujte s logickými operátory `and`, `or` a `not`."
   ]
  },
  {
   "cell_type": "code",
   "execution_count": 3,
   "metadata": {},
   "outputs": [
    {
     "name": "stdout",
     "output_type": "stream",
     "text": [
      "c == d =  False\n"
     ]
    }
   ],
   "source": [
    "c = 1.5\n",
    "d = 2.5\n",
    "\n",
    "# porovnáme čísla c a d:\n",
    "print(\"c == d = \", c == d)"
   ]
  },
  {
   "cell_type": "code",
   "execution_count": null,
   "metadata": {},
   "outputs": [],
   "source": []
  }
 ],
 "metadata": {
  "kernelspec": {
   "display_name": "Python 3",
   "language": "python",
   "name": "python3"
  },
  "language_info": {
   "codemirror_mode": {
    "name": "ipython",
    "version": 3
   },
   "file_extension": ".py",
   "mimetype": "text/x-python",
   "name": "python",
   "nbconvert_exporter": "python",
   "pygments_lexer": "ipython3",
   "version": "3.11.0"
  },
  "orig_nbformat": 4
 },
 "nbformat": 4,
 "nbformat_minor": 2
}
