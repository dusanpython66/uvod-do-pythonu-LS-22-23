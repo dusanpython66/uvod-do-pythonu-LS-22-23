{
 "cells": [
  {
   "attachments": {},
   "cell_type": "markdown",
   "metadata": {},
   "source": [
    "# Vytvoření proměnné"
   ]
  },
  {
   "cell_type": "code",
   "execution_count": 2,
   "metadata": {},
   "outputs": [
    {
     "name": "stdout",
     "output_type": "stream",
     "text": [
      "Karel Novák 25\n"
     ]
    }
   ],
   "source": [
    "jmeno = \"Karel\"\n",
    "prijmeni = \"Novák\"\n",
    "vek = 25\n",
    "print(jmeno, prijmeni, vek)"
   ]
  },
  {
   "cell_type": "code",
   "execution_count": 7,
   "metadata": {},
   "outputs": [
    {
     "name": "stdout",
     "output_type": "stream",
     "text": [
      "Karel Novák 25\n"
     ]
    }
   ],
   "source": [
    "# vypišme jmeno, prijmeni a vek pomoci f-stringu\n",
    "print(f\"{jmeno} {prijmeni} {vek}\")"
   ]
  },
  {
   "cell_type": "code",
   "execution_count": null,
   "metadata": {},
   "outputs": [],
   "source": [
    "# Pytagorova veta\n",
    "# vytvořme uživatelem zadane hodnoty a vypočítejme delku prepony\n",
    "a = int(input(\"Zadejte delku odvesny a: \"))\n",
    "b = int(input(\"Zadejte delku odvesny b: \"))\n",
    "# vypocet delky prepony\n",
    "c = (a**2 + b**2)**(1/2)  # ** je mocnina"
   ]
  },
  {
   "cell_type": "code",
   "execution_count": null,
   "metadata": {},
   "outputs": [],
   "source": []
  }
 ],
 "metadata": {
  "kernelspec": {
   "display_name": "Python 3",
   "language": "python",
   "name": "python3"
  },
  "language_info": {
   "codemirror_mode": {
    "name": "ipython",
    "version": 3
   },
   "file_extension": ".py",
   "mimetype": "text/x-python",
   "name": "python",
   "nbconvert_exporter": "python",
   "pygments_lexer": "ipython3",
   "version": "3.11.0"
  },
  "orig_nbformat": 4
 },
 "nbformat": 4,
 "nbformat_minor": 2
}
