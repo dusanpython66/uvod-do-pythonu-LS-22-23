{
 "cells": [
  {
   "attachments": {},
   "cell_type": "markdown",
   "metadata": {},
   "source": [
    "1. **Práce s čísly a proměnnými**\n",
    "   \n",
    "   - Vytvořte dvě proměnné a přiřaďte jim nějaké celé číslo. Vypište jejich součet, rozdíl, součin a podíl.\n",
    "   - Zjistěte a vypište, jaký datový typ mají proměnné.\n",
    "   - Spočítejte a vypište druhou mocninu jednoho z těchto čísel a také jeho druhou odmocninu (použijte `**` a `math.sqrt()`)."
   ]
  },
  {
   "cell_type": "code",
   "execution_count": 2,
   "metadata": {},
   "outputs": [
    {
     "name": "stdout",
     "output_type": "stream",
     "text": [
      "x + y =  3\n",
      "x - y =  -1\n",
      "x * y =  2\n",
      "x / y =  0.5\n"
     ]
    }
   ],
   "source": [
    "x, y = 1, 2\n",
    "print(\"x + y = \", x + y)\n",
    "print(\"x - y = \", x - y)\n",
    "print(\"x * y = \", x * y)\n",
    "print(\"x / y = \", x / y)"
   ]
  },
  {
   "cell_type": "code",
   "execution_count": 3,
   "metadata": {},
   "outputs": [
    {
     "name": "stdout",
     "output_type": "stream",
     "text": [
      "type(x + y) =  <class 'int'>\n",
      "type(x - y) =  <class 'int'>\n",
      "type(x * y) =  <class 'int'>\n",
      "type(x / y) =  <class 'float'>\n",
      "type x =  <class 'int'>\n",
      "type y =  <class 'int'>\n"
     ]
    }
   ],
   "source": [
    "# zjistíme, jakého typu je každý výsledek:\n",
    "print(\"type(x + y) = \", type(x + y))\n",
    "print(\"type(x - y) = \", type(x - y))\n",
    "print(\"type(x * y) = \", type(x * y))\n",
    "print(\"type(x / y) = \", type(x / y))\n",
    "print(\"type x = \", type(x))\n",
    "print(\"type y = \", type(y))"
   ]
  },
  {
   "cell_type": "code",
   "execution_count": 5,
   "metadata": {},
   "outputs": [
    {
     "name": "stdout",
     "output_type": "stream",
     "text": [
      "x ** 2 =  1\n"
     ]
    }
   ],
   "source": [
    "# spočítejme druhou mocninu čísla x:\n",
    "print(\"x ** 2 = \", x ** 2)  # ** je operátor umocňování"
   ]
  },
  {
   "cell_type": "code",
   "execution_count": 6,
   "metadata": {},
   "outputs": [
    {
     "name": "stdout",
     "output_type": "stream",
     "text": [
      "x ** 0.5 =  1.0\n"
     ]
    }
   ],
   "source": [
    "# vypočítejme druhou odmocninu čísla x:\n",
    "print(\"x ** 0.5 = \", x ** 0.5)  "
   ]
  },
  {
   "cell_type": "code",
   "execution_count": 7,
   "metadata": {},
   "outputs": [
    {
     "name": "stdout",
     "output_type": "stream",
     "text": [
      "sqrt(y) =  1.4142135623730951\n"
     ]
    }
   ],
   "source": [
    "# vypočítejme drohou odmocninu čísla y \n",
    "# pomocí funkce sqrt z modulu math:\n",
    "from math import sqrt\n",
    "print(\"sqrt(y) = \", sqrt(y))"
   ]
  },
  {
   "attachments": {},
   "cell_type": "markdown",
   "metadata": {},
   "source": [
    "2. **Práce s desetinnými čísly**\n",
    "\n",
    "   - Vytvořte dvě proměnné a přiřaďte jim nějaké desetinné číslo. Vypište jejich součet, rozdíl, součin a podíl.\n",
    "   - Využijte funkci `round()` pro zaokrouhlení těchto čísel na celá čísla."
   ]
  },
  {
   "cell_type": "code",
   "execution_count": 1,
   "metadata": {},
   "outputs": [
    {
     "name": "stdout",
     "output_type": "stream",
     "text": [
      "a + b =  4.0\n",
      "a - b =  -1.0\n",
      "a * b =  3.75\n",
      "a / b =  0.6\n"
     ]
    }
   ],
   "source": [
    "a = 1.5\n",
    "b = 2.5\n",
    "print(\"a + b = \", a + b)\n",
    "print(\"a - b = \", a - b)\n",
    "print(\"a * b = \", a * b)\n",
    "print(\"a / b = \", a / b)"
   ]
  },
  {
   "cell_type": "code",
   "execution_count": 2,
   "metadata": {},
   "outputs": [
    {
     "name": "stdout",
     "output_type": "stream",
     "text": [
      "round(a + b) =  4\n",
      "round(a - b) =  -1\n",
      "round(a * b) =  4\n",
      "round(a / b) =  1\n"
     ]
    }
   ],
   "source": [
    "# nyní zaookrouhlíme všechny výsledky na celá čísla:\n",
    "# s pomocí funkce round:\n",
    "print(\"round(a + b) = \", round(a + b))\n",
    "print(\"round(a - b) = \", round(a - b))\n",
    "print(\"round(a * b) = \", round(a * b))\n",
    "print(\"round(a / b) = \", round(a / b))"
   ]
  },
  {
   "attachments": {},
   "cell_type": "markdown",
   "metadata": {},
   "source": [
    "3. **Práce s boolovskými hodnotami**\n",
    "\n",
    "   - Vypište výsledek logických operací mezi dvěma čísly (použijte `>`, `<`, `==`, `!=`, `<=`, `>=`).\n",
    "   - Experimentujte s logickými operátory `and`, `or` a `not`."
   ]
  },
  {
   "cell_type": "code",
   "execution_count": 3,
   "metadata": {},
   "outputs": [
    {
     "name": "stdout",
     "output_type": "stream",
     "text": [
      "c == d =  False\n"
     ]
    }
   ],
   "source": [
    "c = 1.5\n",
    "d = 2.5\n",
    "\n",
    "# porovnáme čísla c a d:\n",
    "print(\"c == d = \", c == d)"
   ]
  },
  {
   "cell_type": "code",
   "execution_count": 4,
   "metadata": {},
   "outputs": [
    {
     "name": "stdout",
     "output_type": "stream",
     "text": [
      "c == d and c != d =  False\n"
     ]
    }
   ],
   "source": [
    "# experimentujeme s operátory and , or a not:\n",
    "print(\"c == d and c != d = \", c == d and c != d)"
   ]
  },
  {
   "cell_type": "code",
   "execution_count": 6,
   "metadata": {},
   "outputs": [
    {
     "name": "stdout",
     "output_type": "stream",
     "text": [
      "c =  1.5\n",
      "d =  2.5\n",
      "c == d or c != d =  True\n",
      "not c == d =  True\n"
     ]
    }
   ],
   "source": [
    "# další příklady:\n",
    "print(\"c = \", c)\n",
    "print(\"d = \", d)\n",
    "print(\"c == d or c != d = \", c == d or c != d)\n",
    "print(\"not c == d = \", not c == d)\n"
   ]
  },
  {
   "attachments": {},
   "cell_type": "markdown",
   "metadata": {},
   "source": [
    "4. **Práce s řetězci**\n",
    "\n",
    "   - Vytvořte dva různé řetězce a zkuste je spojit dohromady.\n",
    "   - Vypište první a poslední znak každého řetězce.\n",
    "   - Zjistěte délku obou řetězců pomocí funkce `len()`.\n",
    "   - Vytvořte podřetězec z jednoho z řetězců pomocí slicing.\n",
    "   - Změňte všechna písmena jednoho z řetězců na velká a druhého na malá."
   ]
  },
  {
   "cell_type": "code",
   "execution_count": 7,
   "metadata": {},
   "outputs": [
    {
     "name": "stdout",
     "output_type": "stream",
     "text": [
      "retezec1 + retezec2 =  AhojKarle\n"
     ]
    }
   ],
   "source": [
    "# vytvořme si nějaké řetězce:\n",
    "retezec1 = \"Ahoj\"\n",
    "retezec2 = \"Karle\"\n",
    "\n",
    "# spojíme řetězce retezec1 a retezec2:\n",
    "print(\"retezec1 + retezec2 = \", retezec1 + retezec2)"
   ]
  },
  {
   "cell_type": "code",
   "execution_count": 8,
   "metadata": {},
   "outputs": [
    {
     "name": "stdout",
     "output_type": "stream",
     "text": [
      "retezec1 + ' ' + retezec2 =  Ahoj Karle\n"
     ]
    }
   ],
   "source": [
    "# spojme řetězce retezec1 a retezec2 s mezerou mezi nimi:\n",
    "print(\"retezec1 + ' ' + retezec2 = \", retezec1 + \" \" + retezec2)"
   ]
  },
  {
   "cell_type": "code",
   "execution_count": 9,
   "metadata": {},
   "outputs": [
    {
     "name": "stdout",
     "output_type": "stream",
     "text": [
      "retezec1[0] =  A\n",
      "retezec1[-1] =  j\n"
     ]
    }
   ],
   "source": [
    "# vypišme prvvní a poslední znak řetězce retezec1:\n",
    "print(\"retezec1[0] = \", retezec1[0])\n",
    "print(\"retezec1[-1] = \", retezec1[-1])"
   ]
  },
  {
   "cell_type": "code",
   "execution_count": 10,
   "metadata": {},
   "outputs": [
    {
     "name": "stdout",
     "output_type": "stream",
     "text": [
      "len(retezec1) =  4\n",
      "len(retezec2) =  5\n"
     ]
    }
   ],
   "source": [
    "# zjistěme délku obou řetězců:\n",
    "print(\"len(retezec1) = \", len(retezec1))\n",
    "print(\"len(retezec2) = \", len(retezec2))"
   ]
  },
  {
   "cell_type": "code",
   "execution_count": 11,
   "metadata": {},
   "outputs": [
    {
     "name": "stdout",
     "output_type": "stream",
     "text": [
      "retezec1[:2] =  Ah\n"
     ]
    }
   ],
   "source": [
    "# použijme metodu \"slicing\" pro vypsání prvních dvou znaků řetězce retezec1:\n",
    "print(\"retezec1[:2] = \", retezec1[:2])"
   ]
  },
  {
   "cell_type": "code",
   "execution_count": 12,
   "metadata": {},
   "outputs": [
    {
     "name": "stdout",
     "output_type": "stream",
     "text": [
      "retezec1.lower() =  ahoj\n"
     ]
    }
   ],
   "source": [
    "# přepišme retezec1 tak, aby obsahoval pouze lower case znaky:\n",
    "print(\"retezec1.lower() = \", retezec1.lower())"
   ]
  },
  {
   "cell_type": "code",
   "execution_count": 13,
   "metadata": {},
   "outputs": [
    {
     "name": "stdout",
     "output_type": "stream",
     "text": [
      "retezec2.upper() =  KARLE\n"
     ]
    }
   ],
   "source": [
    "# změňme druhý řetězec tak, aby obsahoval pouze upper case znaky:\n",
    "print(\"retezec2.upper() = \", retezec2.upper())"
   ]
  },
  {
   "cell_type": "code",
   "execution_count": 14,
   "metadata": {},
   "outputs": [
    {
     "data": {
      "text/plain": [
       "'Karle'"
      ]
     },
     "execution_count": 14,
     "metadata": {},
     "output_type": "execute_result"
    }
   ],
   "source": [
    "retezec2  # vypíše řetězec2 řetězec2 zůstává nezměněn, tj. = \"Karle\""
   ]
  },
  {
   "attachments": {},
   "cell_type": "markdown",
   "metadata": {},
   "source": [
    "5. **Příklad se všemi datovými typy**\n",
    "\n",
    "   - Vytvořte proměnné různých datových typů a vypište jejich typ pomocí funkce `type()`."
   ]
  },
  {
   "cell_type": "code",
   "execution_count": 1,
   "metadata": {},
   "outputs": [
    {
     "name": "stdout",
     "output_type": "stream",
     "text": [
      "type cele_cislo =  <class 'int'>\n",
      "type desetinne_cislo =  <class 'float'>\n",
      "type retezec3 =  <class 'str'>\n"
     ]
    }
   ],
   "source": [
    "cele_cislo = 8\n",
    "desetinne_cislo = 8.0\n",
    "retezec3 = \"Toto je retezec\"\n",
    "\n",
    "# zjistíme, jakého typu je každá proměnná:\n",
    "print(\"type cele_cislo = \", type(cele_cislo))\n",
    "print(\"type desetinne_cislo = \", type(desetinne_cislo))\n",
    "print(\"type retezec3 = \", type(retezec3))"
   ]
  }
 ],
 "metadata": {
  "kernelspec": {
   "display_name": "Python 3",
   "language": "python",
   "name": "python3"
  },
  "language_info": {
   "codemirror_mode": {
    "name": "ipython",
    "version": 3
   },
   "file_extension": ".py",
   "mimetype": "text/x-python",
   "name": "python",
   "nbconvert_exporter": "python",
   "pygments_lexer": "ipython3",
   "version": "3.11.0"
  },
  "orig_nbformat": 4
 },
 "nbformat": 4,
 "nbformat_minor": 2
}
